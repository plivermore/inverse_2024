{
 "cells": [
  {
   "cell_type": "code",
   "execution_count": 1,
   "metadata": {},
   "outputs": [],
   "source": [
    "import matplotlib.pyplot as plt\n",
    "import numpy as np\n",
    "import random"
   ]
  },
  {
   "cell_type": "markdown",
   "metadata": {},
   "source": [
    "## SOEE3250/SOEE5675M/5116\t\t\t\t\t\n",
    "\n",
    "Inverse Theory\n",
    "\n",
    "# Practical 7: Maximum likelihood\n",
    "In this practical you will learn how to find a maximum likelihood estimate (MLE). As we saw in the lecture, if the problem is linear and the errors are Gaussian, then the MLE is the BLUE. \n",
    "\n",
    "Although the BLUE is the best (i.e. lowest variance) **linear** estimator, it might be that there is a better **non linear** estimator. \n",
    "The aim here is to find a MLE for a simple problem that is nonlinear, and actually performs better than the BLUE. \n",
    "\n",
    "To achieve this, you will simulate measurements for a given set of model parameters and then use both the BLUE and the MLE to invert the problem 100 times. Simulation of data has the advantage that you know what the true values are for the model parameters, which enables you to assess how successful each estimator is.\n",
    "\n",
    "## Inverse problem description\n",
    "\n",
    "Using a gravimeter, 15 independent relative gravity measurements are made. The data are assumed drawn from a Cauchy distribution, the PDF of which is given by\n",
    "\n",
    "$$ f(x \\vert \\mu, \\gamma) = \\frac{1}{\\pi \\gamma\\left[1 + \\left(\\frac{x-\\mu}{\\gamma}\\right)^2\\right] }$$\n",
    "where $\\mu$ is the mean and $\\gamma$ is related to the width of the PDF. Throughout the practical, the value of gamma can be taken to be 0.03 mGal.\n",
    "\n",
    "[N.B. The Cauchy distribution is used here by way of example, and does not represent the typical error distribution for a real gravimeter.]\n"
   ]
  },
  {
   "cell_type": "markdown",
   "metadata": {},
   "source": [
    "Q1) Simulate 10,000 random values drawn from a Cauchy distribution with $\\mu=0$ and $\\gamma=0.03$ mGal. Seed the random number generator with 10.\n",
    " \n",
    "Plot a histogram of the distribution using 1000 bins. "
   ]
  },
  {
   "cell_type": "code",
   "execution_count": null,
   "metadata": {},
   "outputs": [],
   "source": [
    "from scipy.stats import cauchy\n",
    "# draw from the Cauchy distribution 10,000 times, with seed 10.\n",
    "d = cauchy.rvs(loc=0, scale=0.01, size=10000, random_state=10)\n",
    "plt.figure()\n",
    "plt.hist(d,bins=10)\n",
    "plt.xlim([-2,2]);"
   ]
  },
  {
   "cell_type": "code",
   "execution_count": null,
   "metadata": {},
   "outputs": [],
   "source": [
    "\n"
   ]
  },
  {
   "cell_type": "markdown",
   "metadata": {},
   "source": [
    "Q2) Here is an equivalent plot for the normal distribution. How is it different from the Cauchy distribution?"
   ]
  },
  {
   "cell_type": "code",
   "execution_count": null,
   "metadata": {},
   "outputs": [],
   "source": [
    "from scipy.stats import multivariate_normal\n",
    "# draw from the Cauchy distribution 10,000 times, with seed 10.\n",
    "d = multivariate_normal.rvs(mean=0, cov=0.03**2, size=10000, random_state=10)\n",
    "plt.figure()\n",
    "plt.hist(d,bins=100)\n",
    "plt.xlim([-2,2]);"
   ]
  },
  {
   "cell_type": "markdown",
   "metadata": {},
   "source": [
    "Q3) Assuming that the true gravity value is $\\mu=30$ mGal, simulate 15 measurements (store it in the variable d) drawn from a Cauchy distribution with $\\gamma=0.03$ mGal. \n",
    "Seed the random number generator as above. \n",
    "Plot the 15 values against index as black points and a red line representing the true value.\n",
    "\n",
    "What does \"np.ones(15)*30\" do?"
   ]
  },
  {
   "cell_type": "code",
   "execution_count": null,
   "metadata": {},
   "outputs": [],
   "source": [
    "plt.figure()\n",
    "d = \n",
    "plt.plot(d,'*',color='black' ,label='Data')\n",
    "plt.plot(np.ones(15)*30,'-',color='red', label='True')\n",
    "plt.legend(loc='center right');"
   ]
  },
  {
   "cell_type": "code",
   "execution_count": null,
   "metadata": {},
   "outputs": [],
   "source": []
  },
  {
   "cell_type": "markdown",
   "metadata": {},
   "source": [
    "Q4) Use the BLUE (i.e. the mean) to estimate the gravity value from the simulated measurements and plot the estimate as a red horizontal line along with your other lines in the plot above (copy and paste the Python commands you used before)."
   ]
  },
  {
   "cell_type": "code",
   "execution_count": null,
   "metadata": {},
   "outputs": [],
   "source": []
  },
  {
   "cell_type": "markdown",
   "metadata": {},
   "source": [
    "Q5) On paper:\n",
    "- Write down the PDF for a single measurement. Then write down the joint PDF for all 15 measurements (the product of the PDFs for the individual measurements)\n",
    "\n",
    "- Take the natural logarithm of the joint PDF (write your answer)\n",
    "\n",
    "- Differentiate the logarithm of the joint PDF with respect to the maximising parameter (the model mean). \n",
    "\n",
    "- What condition must be met for the differential to be zero (i.e. how would you find the MLE)? \n",
    "\n",
    "You should find that the condition is that\n",
    "$$ \\sum_{i=1}^{15} \\frac{ (x_i - \\mu) }{\\gamma^2 + (x_i - \\mu)^2} = 0$$"
   ]
  },
  {
   "cell_type": "markdown",
   "metadata": {},
   "source": [
    "Q6) Using the same 15 simulated measurements, find the approximate gravity value (to the nearest 0.001 mGal) that gets closest to meeting the MLE condition (use a systematic search of reasonable values of μ to find where the derivative is approximately zero). \n",
    "\n",
    "The easiest way of evaluating the condition needed is to create a new vector $v$ with entries:\n",
    "$$v_i = \\frac{ (x_i - \\mu) }{\\gamma^2 + (x_i - \\mu)^2}$$\n",
    "and then use the np.sum() command to add up its elements.\n",
    "\n",
    "For each choice of mu, calculate np.sum(v) and store its absolute value in a vector (called r, say). Use np.argmin to find the index of its minimum value, and then find the corresponding value of mu.\n",
    "\n",
    "Plot the estimate as a green line along with your other lines (as before). Is it closer to the true value than the BLUE?"
   ]
  },
  {
   "cell_type": "code",
   "execution_count": 87,
   "metadata": {},
   "outputs": [],
   "source": [
    "N = 400\n",
    "mu_trial = 30 + np.linspace(-0.02,0.02,N)\n",
    "r=np.zeros(N)\n",
    "for i in range(N):\n",
    "    r[i]= \n",
    "index = np.argmin(r)\n",
    "mu_ML = mu_trial[index]\n"
   ]
  },
  {
   "cell_type": "code",
   "execution_count": null,
   "metadata": {},
   "outputs": [],
   "source": []
  },
  {
   "cell_type": "markdown",
   "metadata": {},
   "source": [
    "Q7) Now repeat this 1000 times: each time, simulate 15 new measurements and estimate the gravity value using both the BLUE and MLE. \n",
    "Plot a histogram of the estimates for both the BLUE and MLE.\n",
    "\n",
    "Are both estimators unbiased (give reasoning)? Which estimator has lower variance? "
   ]
  },
  {
   "cell_type": "code",
   "execution_count": null,
   "metadata": {},
   "outputs": [],
   "source": [
    "Number_runs = 1000\n",
    "mu_ML = np.zeros(Number_runs)\n",
    "mu_BLUE = np.zeros(Number_runs)\n",
    "for j in range(Number_runs):\n",
    "    # simulate d\n",
    "    # find mu \n",
    "    mu_ML[j] = \n",
    "    mu_BLUE[j] = \n",
    "plt.figure()\n",
    "fig, axs = plt.subplots(1,2)\n",
    "axs[0].hist(mu_ML, bins=100)\n",
    "axs[1].hist(mu_BLUE, bins=100)\n",
    "axs[0].set_title('MLE')\n",
    "axs[1].set_title('BLUE')\n",
    "print('Standard deviation from BLUE {0:f}'.format(np.std(mu_BLUE) ))\n",
    "print('Standard deviation from MLE {0:f}'.format(np.std(mu_ML) ));"
   ]
  },
  {
   "cell_type": "code",
   "execution_count": null,
   "metadata": {},
   "outputs": [],
   "source": []
  },
  {
   "cell_type": "code",
   "execution_count": null,
   "metadata": {},
   "outputs": [],
   "source": []
  }
 ],
 "metadata": {
  "kernelspec": {
   "display_name": "Python 3 (ipykernel)",
   "language": "python",
   "name": "python3"
  },
  "language_info": {
   "codemirror_mode": {
    "name": "ipython",
    "version": 3
   },
   "file_extension": ".py",
   "mimetype": "text/x-python",
   "name": "python",
   "nbconvert_exporter": "python",
   "pygments_lexer": "ipython3",
   "version": "3.12.4"
  }
 },
 "nbformat": 4,
 "nbformat_minor": 4
}
