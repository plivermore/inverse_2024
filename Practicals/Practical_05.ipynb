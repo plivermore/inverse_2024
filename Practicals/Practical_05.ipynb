{
 "cells": [
  {
   "cell_type": "code",
   "execution_count": 1,
   "metadata": {},
   "outputs": [],
   "source": [
    "import matplotlib.pyplot as plt\n",
    "import numpy as np"
   ]
  },
  {
   "cell_type": "markdown",
   "metadata": {},
   "source": [
    "## SOEE3250/SOEE5675M/SOEE5116\t\t\t\t\t\n",
    "\n",
    "Inverse Theory\n",
    "\n",
    "# Practical 5: Non-uniqueness and SVD\n",
    "In this practical we will investigate non-uniqueness: model null spaces, data null spaces, and the generalised inverse that we discussed in lectures. We will begin by confirming some of the results in lecture 5, before trying a more complicated example.\n",
    "\n",
    "# Example 1:\n",
    "In this simple example, a single seismic wave (whose wave front here is modelled as a ray) passes through two blocks of width 1, of unknown slowness. Here, everything is presented relative to a reference model, so we use relative travel times and relative slowness.\n",
    "\n",
    "\n",
    "<img src=\"../Figures/Prac5_fig1.png\" alt=\"drawing\" style=\"width:700px;\"/>\n",
    "Figure 1. Example 1 in the lecture: a single ray constraints two slowness values.\n"
   ]
  },
  {
   "cell_type": "markdown",
   "metadata": {},
   "source": [
    "Q1) How large is the data vector (note that I haven't given you any data values)?\n",
    "What is the model vector?\n",
    "The matrix G that links the two is given below: note that the SVD function expects a matrix and not a vector, hence the need for double square brackets."
   ]
  },
  {
   "cell_type": "markdown",
   "metadata": {},
   "source": [
    "A1)"
   ]
  },
  {
   "cell_type": "code",
   "execution_count": 89,
   "metadata": {},
   "outputs": [],
   "source": [
    "G = np.array([[1,1]])  #This is a matrix with one row\n",
    "#G = np.array([1,1])  #This is a vector, and the SVD function will fail if you use this."
   ]
  },
  {
   "cell_type": "code",
   "execution_count": null,
   "metadata": {},
   "outputs": [],
   "source": [
    "Q2) Find the SVD decomposition. First look at the help page"
   ]
  },
  {
   "cell_type": "code",
   "execution_count": null,
   "metadata": {},
   "outputs": [],
   "source": [
    "np.linalg.svd?"
   ]
  },
  {
   "cell_type": "markdown",
   "metadata": {},
   "source": [
    "You will see that the function does NOT return U, S and V, but rather U, the diagonal elements of S, and V transposed."
   ]
  },
  {
   "cell_type": "code",
   "execution_count": 90,
   "metadata": {},
   "outputs": [],
   "source": [
    "U,diagS,Vt = np.linalg.svd(G)"
   ]
  },
  {
   "cell_type": "markdown",
   "metadata": {},
   "source": [
    "Q3) How many non-zero singular values are there? What is N and M in this problem? Is there a model null space or a data null space? If so, display spanning vectors on the screen. Is this the same as presented in the lecture?"
   ]
  },
  {
   "cell_type": "markdown",
   "metadata": {},
   "source": [
    " "
   ]
  },
  {
   "cell_type": "code",
   "execution_count": null,
   "metadata": {},
   "outputs": [],
   "source": []
  },
  {
   "cell_type": "markdown",
   "metadata": {},
   "source": [
    "# Example 2:\n",
    "This is example 2 in the lecture: we now have two rays and one block.\n",
    "\n",
    "<img src=\"../Figures/Prac5_fig2.png\" alt=\"drawing\" style=\"width:700px;\"/>\n",
    "Figure 2. Example 2 in the lecture: two rays constrain a single slowness values.\n"
   ]
  },
  {
   "cell_type": "markdown",
   "metadata": {},
   "source": [
    "Q4) What size are the data and model vectors? In Python, define the matrix G."
   ]
  },
  {
   "cell_type": "code",
   "execution_count": 95,
   "metadata": {},
   "outputs": [],
   "source": []
  },
  {
   "cell_type": "markdown",
   "metadata": {},
   "source": [
    "Q5) Calculate the SVD decomposition of G, and write down how many non-zero singular values there are."
   ]
  },
  {
   "cell_type": "code",
   "execution_count": 100,
   "metadata": {},
   "outputs": [],
   "source": []
  },
  {
   "cell_type": "code",
   "execution_count": null,
   "metadata": {},
   "outputs": [],
   "source": []
  },
  {
   "cell_type": "markdown",
   "metadata": {},
   "source": [
    "Q6) Are there model or data null spaces? If so, display spanning vectors of these spaces. Does this match with what was presented in the lecture?"
   ]
  },
  {
   "cell_type": "markdown",
   "metadata": {},
   "source": []
  },
  {
   "cell_type": "code",
   "execution_count": null,
   "metadata": {},
   "outputs": [],
   "source": []
  },
  {
   "cell_type": "markdown",
   "metadata": {},
   "source": [
    "# Example 3\n",
    "\n",
    "The figure below shows a 2-D seismic tomography experiment carried out in a laboratory on a piece of rock measuring 30 mm by 20 mm.  The red lines represent the paths of five seismic rays through the rock, the measured travel times for each of which is given below:\n",
    "\n",
    "<img src=\"../Figures/Prac5_fig4.png\" alt=\"drawing\" style=\"width:400px;\"/>\n",
    " \n",
    "\n",
    "| Ray number   | Time ($\\mu$s)   |\n",
    "| :------ |---------:|\n",
    "|  1  | 5.43 |\n",
    "|  2 | 3.18 |\n",
    "| 3 | 3.65 | \n",
    "| 4 | 5.50 |\n",
    "| 5 | 4.35 |\n",
    "\n",
    "In the model set-up, the rock is divided into six 10x10 mm blocks as shown, and ordered according to their number in the bottom right hand corner of each block. The goal is to determine the slowness of each the blocks (slowness is assumed constant in each block).\n",
    "\n"
   ]
  },
  {
   "cell_type": "code",
   "execution_count": null,
   "metadata": {},
   "outputs": [],
   "source": [
    "Q7) Setup a vector of travel times"
   ]
  },
  {
   "cell_type": "code",
   "execution_count": 55,
   "metadata": {},
   "outputs": [],
   "source": []
  },
  {
   "cell_type": "markdown",
   "metadata": {},
   "source": [
    "Q8) Define the matrix G for the problem: amend the following (the first row is done for you). Do not approximate any lengths (e.g. np.sqrt(200)), but use the full value."
   ]
  },
  {
   "cell_type": "markdown",
   "metadata": {},
   "source": [
    "G = np.array([ [10, 0, 10, 0, 10, 0]])"
   ]
  },
  {
   "cell_type": "code",
   "execution_count": 116,
   "metadata": {},
   "outputs": [],
   "source": []
  },
  {
   "cell_type": "code",
   "execution_count": null,
   "metadata": {},
   "outputs": [],
   "source": [
    "print(G)"
   ]
  },
  {
   "cell_type": "markdown",
   "metadata": {},
   "source": [
    "Q9) Calculate the SVD decomposition of G and display to the screen the singular values.\n",
    "How many non-zero singular values are there? Remember that computer arithmetic is not exact and so values within about $10^{-15}$ of zero should be treated as zero."
   ]
  },
  {
   "cell_type": "code",
   "execution_count": null,
   "metadata": {},
   "outputs": [],
   "source": []
  },
  {
   "cell_type": "markdown",
   "metadata": {},
   "source": []
  },
  {
   "cell_type": "markdown",
   "metadata": {},
   "source": [
    "Q10) Define Up and Vp to contain the non-null parts of U and V, and define the matrix Sp using the np.diag() command and the non-zero singular values. Remember you can choose the first n columns of a matrix y by using y[:,0:n]"
   ]
  },
  {
   "cell_type": "code",
   "execution_count": 117,
   "metadata": {},
   "outputs": [],
   "source": []
  },
  {
   "cell_type": "markdown",
   "metadata": {},
   "source": [
    "Q11) Confirm that G is equal to Up * Sp * Vp^T. To do this, calculate the matrix norm (like a vector norm, but for matrices) of the difference of the two matrices (NOT the difference of the norms), using np.linalg.norm(). A small matrix norm indicates a small matrix: i.e. if A-B has a small norm, then $A \\approx B$. "
   ]
  },
  {
   "cell_type": "code",
   "execution_count": null,
   "metadata": {},
   "outputs": [],
   "source": []
  },
  {
   "cell_type": "markdown",
   "metadata": {},
   "source": [
    "Q12) Using the matrices Up, Sp, and Vp, calculate m_hat as G_invg times $\\bf d$, where the generalised Moore-Penrose pseudoinverse G_invg needs to be evaluated. Do not use the pseudo-inverse function np.linalg.pinv().\n",
    "Display m_hat to the screen."
   ]
  },
  {
   "cell_type": "code",
   "execution_count": null,
   "metadata": {},
   "outputs": [],
   "source": []
  },
  {
   "cell_type": "markdown",
   "metadata": {},
   "source": [
    "Q13) Define d_hat, the model-predicted values of slowness (d_hat = G * m_hat )"
   ]
  },
  {
   "cell_type": "code",
   "execution_count": 79,
   "metadata": {},
   "outputs": [],
   "source": []
  },
  {
   "cell_type": "markdown",
   "metadata": {},
   "source": [
    "Q14) Plot the estimated slownesses m_hat as square blocks (as in Fig. 4). To do this:\n",
    "\n",
    "- reshape your m_hat vector into a 2 x 3 matrix.\n",
    "- use the command imshow to display, and the extent argument to specify the size.\n",
    "- add a colorbar\n"
   ]
  },
  {
   "cell_type": "code",
   "execution_count": null,
   "metadata": {},
   "outputs": [],
   "source": [
    "plt.figure()\n",
    "plt.imshow(m_hat.reshape((2,3),order='F'),extent=[0, 30, 0, 20])\n",
    "plt.colorbar();"
   ]
  },
  {
   "cell_type": "markdown",
   "metadata": {},
   "source": [
    "Q15) There is a model nullspace - but how do you know? What two vectors span this space?\n",
    "Display each of the spanning vectors as a plot similar to the above. Try to explain the physical significance of these model vectors."
   ]
  },
  {
   "cell_type": "code",
   "execution_count": null,
   "metadata": {},
   "outputs": [],
   "source": []
  },
  {
   "cell_type": "code",
   "execution_count": null,
   "metadata": {},
   "outputs": [],
   "source": []
  },
  {
   "cell_type": "markdown",
   "metadata": {},
   "source": [
    "Q16) Add some combination of these two vectors to m_hat, and check that this new model would recreate the same synthetic travel times as d_hat."
   ]
  },
  {
   "cell_type": "code",
   "execution_count": null,
   "metadata": {},
   "outputs": [],
   "source": []
  },
  {
   "cell_type": "markdown",
   "metadata": {},
   "source": [
    "Q17) Calculate the data residuals: d - d_hat. This is the part of the data that is not representable by the model.\n",
    "There is a data null space, but how do you know from the SVD? Which vector spans this subspace? Confirm that it is proportional to the data residual."
   ]
  },
  {
   "cell_type": "code",
   "execution_count": 110,
   "metadata": {},
   "outputs": [],
   "source": []
  },
  {
   "cell_type": "code",
   "execution_count": null,
   "metadata": {},
   "outputs": [],
   "source": [
    "\n"
   ]
  },
  {
   "cell_type": "code",
   "execution_count": null,
   "metadata": {},
   "outputs": [],
   "source": []
  },
  {
   "cell_type": "code",
   "execution_count": null,
   "metadata": {},
   "outputs": [],
   "source": []
  }
 ],
 "metadata": {
  "kernelspec": {
   "display_name": "Python 3",
   "language": "python",
   "name": "python3"
  },
  "language_info": {
   "codemirror_mode": {
    "name": "ipython",
    "version": 3
   },
   "file_extension": ".py",
   "mimetype": "text/x-python",
   "name": "python",
   "nbconvert_exporter": "python",
   "pygments_lexer": "ipython3",
   "version": "3.7.6"
  }
 },
 "nbformat": 4,
 "nbformat_minor": 4
}
