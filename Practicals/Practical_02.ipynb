{
 "cells": [
  {
   "cell_type": "code",
   "execution_count": null,
   "metadata": {},
   "outputs": [],
   "source": [
    "import matplotlib.pyplot as plt\n",
    "import numpy as np"
   ]
  },
  {
   "cell_type": "markdown",
   "metadata": {},
   "source": [
    "## SOEE3250/SOEE5675/SOEE5675M\t\t\t\t\t2024/25\n",
    "\n",
    "Inverse Theory\n",
    "\n",
    "# Practical 2: Least squares estimation\n",
    "\n",
    "## Geophysical background\n",
    "A survey seismic refraction experiment has been carried out as shown in Figure 1. Your goal is to determine the seismic velocity (that is, the speed that seismic waves can travel) of the three different layers and the thickness of the upper two.\n",
    "\n",
    "\n",
    "<img src=\"../figures/Prac2_fig1.png\" alt=\"drawing\" style=\"width:400px;\"/>\n",
    "Figure 1. Seismic refraction survey set up.\n",
    "\n",
    "\n",
    "We assume that for each layer, the seismic velocity successively increases.\n",
    "At the geophones (the seismometers that measure the waves) closest to the source, the first arrivals are the direct waves that travel along the surface. In the middle distance, the first arrivals are the refracted waves that travel along the top of the middle layer, because the waves can travel through the middle layer (even with the descent and ascent of the wave) in less time than the direct surface wave takes. For a similar reason, at the farthest geophones, the first arrivals are refracted and travel along the top of the deepest layer (which has the fastest seismic velocity). A plot of first arrivals looks like Figure 2.\n",
    "\n",
    " \n",
    "<img src=\"https://see-jupyter99.leeds.ac.uk/figures/inverse/Prac2_fig2.png\" alt=\"drawing\" style=\"width:400px;\"/>\n",
    "Figure 2. Time of first arrivals.\n",
    "\n",
    "The slopes represent the “slowness” (reciprocal of velocity) of each layer. The intercepts with the y-axis are related to the velocities and the depths by the following formulae:\n",
    "\n",
    "$\\large \\tau_1 = 2 z_1 \\frac{ \\sqrt{ c_2^2 - c_1^2}}{c_2 c_1}$\n",
    "\n",
    "$\\large \\tau_2 = 2 z_1 \\frac{ \\sqrt{ c_3^2 - c_1^2}}{c_3 c_1} + 2 z_2 \\frac{ \\sqrt{ c_3^2 - c_2^2}}{c_3 c_2}$\n",
    "\n",
    "where $z_1$ and $z_2$ are the thicknesses of the upper and middle layers, respectively, $c_1$ and $c_2$ are the corresponding velocities, and $c_3$ is the velocity of the bottom layer. The locations and measured first arrival times are given in Table 1.\n",
    "\n",
    "| Distance (m)   | First arrival time (s)  |  \n",
    "| :------ |---------:|\n",
    "|  80 | 0.0474 |\n",
    "|  160 | 0.0979 |\n",
    "| 240 | 0.1481 | \n",
    "| 320 | 0.1949 |\n",
    "| 400 | 0.2288 | \n",
    "| 480 | 0.2563 |\n",
    "| 560 | 0.2819 |\n",
    "| 640 | 0.3108 |\n",
    "| 720 | 0.3325 |\n",
    "| 800 | 0.3529 |\n",
    "| 880 | 0.3694 |\n",
    "\n",
    "Table 1. Distance from source and time of first arrival, for each receiver.\n",
    "\n",
    "The first four measurements are related to the speed of waves in the upper layer; the second four to the middle layer; and the remaining 3 to the bottom layer.\n",
    "\n",
    "## Mathematical background\n",
    "\n",
    "This practical is essentially about fitting least-squares straight lines through three groups of data: points $1-4$, $5-8$, $9-11$.\n",
    "\n",
    "<img src=\"../figures/Prac2_fig3.png\" alt=\"drawing\" style=\"width:500px;\"/>\n",
    "\n",
    "- The first straightline segment (blue), with zero intercept, has a gradient related to $c_1$. \n",
    "- The second straightline (orange) has intercept $\\tau_1$ and a gradient related to $c_2$.\n",
    "- The third straightline (purple) has intercept $\\tau_2$ and a gradient related to $c_3$.\n",
    "\n",
    "Using the formulae given above, the layer depths $z_1$ and $z_2$ can be calculated.\n",
    "\n"
   ]
  },
  {
   "cell_type": "markdown",
   "metadata": {},
   "source": [
    "Q1) What is the data vector in this problem, and what are the overall model parameters? "
   ]
  },
  {
   "cell_type": "markdown",
   "metadata": {},
   "source": [
    "A1) Write your answer here."
   ]
  },
  {
   "cell_type": "markdown",
   "metadata": {},
   "source": [
    "Q2) Define a vector of arrival times and a vector of distances. Make a plot of arrival time versus distance for the observations. Add a title and label the axes. "
   ]
  },
  {
   "cell_type": "code",
   "execution_count": null,
   "metadata": {},
   "outputs": [],
   "source": [
    "#plt.figure()\n",
    "#plt.plot(x,y 'o',color='red')\n",
    "#plt.ylabel('')\n",
    "#plt.xlabel('');\n",
    "#plt.title('My title')"
   ]
  },
  {
   "cell_type": "markdown",
   "metadata": {},
   "source": [
    "Q3) The measurements at the first 4 geophones relate to the upper layer. Using markdown, write down the equations that relate the velocity of the upper layer, $c_1$, to these 4 measurements (in the format $d_i=\\dots$). For the upper layer, what are the unknown parameters ($m_i$)? Is the problem linear (i.e., is $d_i$ the weighted sum of the unknown parameter(s))?\n"
   ]
  },
  {
   "cell_type": "markdown",
   "metadata": {},
   "source": [
    "A3) "
   ]
  },
  {
   "cell_type": "markdown",
   "metadata": {},
   "source": [
    "Q4) Now rewrite the equations using slowness of the upper layer, $s_1$ (where $s_1=1/c_1$), instead of velocity. Is the system now linear?"
   ]
  },
  {
   "cell_type": "markdown",
   "metadata": {},
   "source": [
    "A4) "
   ]
  },
  {
   "cell_type": "markdown",
   "metadata": {},
   "source": [
    "Q5) Set up a vector of observations for the upper layer $d1$ and a forward operator matrix ($G1$) based on the equations you wrote down above. \n",
    "The columns of $G1$ should correspond to the multipliers of $m_i$."
   ]
  },
  {
   "cell_type": "code",
   "execution_count": null,
   "metadata": {},
   "outputs": [],
   "source": [
    "d1 = \n",
    "G1 = np.zeros((4,1))  #setup G1 as a matrix of zeros\n",
    "G1[0:4,0] =   #set values here.\n"
   ]
  },
  {
   "cell_type": "markdown",
   "metadata": {},
   "source": [
    "Q6) Use least squares to estimate $s_1$, and then calculate $c_1$ from $s_1$. What are the units of $c_1$? As a check, you should get 1635.9. \n",
    "\n",
    "Recall: the matrix inverse can be found using np.linalg.inv(), the transpose of A is A.transpose(), and the product of matrices A and B can be written as A @ B."
   ]
  },
  {
   "cell_type": "code",
   "execution_count": null,
   "metadata": {},
   "outputs": [],
   "source": []
  },
  {
   "cell_type": "markdown",
   "metadata": {},
   "source": [
    "Q7) Copy and paste the plotting code from your answer to Q2 into the cell below. To this plot add a line (in a different colour), based on your estimated value of $s_1$. \n",
    "Does it look visually like you have found the least squares solution to the straight line fit of the first four data points?"
   ]
  },
  {
   "cell_type": "raw",
   "metadata": {},
   "source": [
    "Recall: to plot a straight line, use code such as:\n",
    "\n",
    "x = np.linspace(0,880,1000)\n",
    "y = gradient * x + intercept\n",
    "np.plot(x,y,'-',color='orange')"
   ]
  },
  {
   "cell_type": "code",
   "execution_count": null,
   "metadata": {},
   "outputs": [],
   "source": []
  },
  {
   "cell_type": "markdown",
   "metadata": {},
   "source": [
    "Q8) The middle layer is defined the next 4 geophones. Write down the equation that relates the slowness of the middle layer ($s_2$) and the intercept ($\\tau_1$) to the measurements at the next 4 geophones (in the format $d_i=\\dots$). \n",
    "What are the unknown parameters ($m_i$)?"
   ]
  },
  {
   "cell_type": "markdown",
   "metadata": {},
   "source": []
  },
  {
   "cell_type": "markdown",
   "metadata": {},
   "source": [
    "Q9) Set up a vector of observations ($d2$) for the middle layer and a forward operator matrix ($G2$) based on the equations above. Use least squares to estimate $s_2$ (and therefore $c_2$) and $\\tau_1$.  As a check, the value for $c_2$ should be about 2946 m/s."
   ]
  },
  {
   "cell_type": "code",
   "execution_count": null,
   "metadata": {},
   "outputs": [],
   "source": []
  },
  {
   "cell_type": "markdown",
   "metadata": {},
   "source": [
    "Q10) Copy and paste your plotting code from Q7 and add a line to the plot, in a different colour, based on your estimates for the middle layer. "
   ]
  },
  {
   "cell_type": "code",
   "execution_count": null,
   "metadata": {},
   "outputs": [],
   "source": []
  },
  {
   "cell_type": "markdown",
   "metadata": {},
   "source": [
    "Q11) What is the estimated thickness of the upper layer ($z_1$)? "
   ]
  },
  {
   "cell_type": "markdown",
   "metadata": {},
   "source": [
    "A11) "
   ]
  },
  {
   "cell_type": "markdown",
   "metadata": {},
   "source": [
    "Q12) The remaining 3 geophones constrain the bottom layer. Now estimate the velocity of the bottom layer ($c_3$) and the thickness of the middle layer ($z_2$) using least squares, and add an appropriate third line to your plot. As a check, the value for $c_3$ should be 4336 m/s, and the depth $z_2$ should be 127.7m.\n"
   ]
  },
  {
   "cell_type": "code",
   "execution_count": null,
   "metadata": {},
   "outputs": [],
   "source": []
  },
  {
   "cell_type": "code",
   "execution_count": null,
   "metadata": {},
   "outputs": [],
   "source": []
  },
  {
   "cell_type": "code",
   "execution_count": null,
   "metadata": {},
   "outputs": [],
   "source": []
  }
 ],
 "metadata": {
  "kernelspec": {
   "display_name": "Python 3 (ipykernel)",
   "language": "python",
   "name": "python3"
  },
  "language_info": {
   "codemirror_mode": {
    "name": "ipython",
    "version": 3
   },
   "file_extension": ".py",
   "mimetype": "text/x-python",
   "name": "python",
   "nbconvert_exporter": "python",
   "pygments_lexer": "ipython3",
   "version": "3.12.1"
  }
 },
 "nbformat": 4,
 "nbformat_minor": 4
}
