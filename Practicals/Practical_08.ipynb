{
 "cells": [
  {
   "cell_type": "markdown",
   "metadata": {},
   "source": [
    "## SOEE3250/SOEE5675M/5116\t\t\t\t\t\n",
    "\n",
    "Inverse Theory\n",
    "\n",
    "# Practical 8: Neighbourhood Algorithm\n",
    "In this practical you will learn how to find the optimal solution in a two-parameter non-linear problem using the neighbourhood algorithm. \n",
    "\n",
    "## Inverse problem description\n",
    "\n",
    "You are given 10 observations made at different times, and a mathematical model (with unknown parameters $x$ and $y$) that predicts the value of an observation made at time t:    \n",
    "$$ g(t,x,y)  =1+ \\frac{\\sin⁡(x/4)+\\sin(y/5)}{\\sqrt{(x+t)^2+y^2}}$$\n",
    "\n",
    "The objective function (here, also the likelihood) is given by\n",
    "$$ \\sigma = e^{- \\sum_i(g(t_i,x,y)-d_i)^2}$$\n",
    "\n",
    "The goal of this practical is to estimate $x$ and $y$ by finding the location in model space with the greatest value of $\\sigma$. \n",
    "\n",
    "Data $d$ is collected for $t=1,2,3,\\dots,10$.\n",
    "\n",
    "The data and times are provided below."
   ]
  },
  {
   "cell_type": "code",
   "execution_count": 142,
   "metadata": {},
   "outputs": [],
   "source": [
    "import matplotlib.pyplot as plt\n",
    "import numpy as np\n",
    "import numpy.matlib\n",
    "from scipy.spatial import Voronoi, voronoi_plot_2d"
   ]
  },
  {
   "cell_type": "code",
   "execution_count": 143,
   "metadata": {},
   "outputs": [
    {
     "name": "stdout",
     "output_type": "stream",
     "text": [
      "[ 1  2  3  4  5  6  7  8  9 10]\n",
      "[0.822 0.809 0.791 0.8   0.796 0.781 0.765 0.792 0.792 0.776]\n"
     ]
    }
   ],
   "source": [
    "t = np.arange(1,11)\n",
    "d = np.array([0.822,   0.809,   0.791,   0.800,   0.796,   0.781,  0.765,  0.792,   0.792,   0.776])\n",
    "print(t)\n",
    "print(d)"
   ]
  },
  {
   "cell_type": "markdown",
   "metadata": {},
   "source": [
    "Q1) Run the following code to generate 15 realisations of models $(x,y)$, where both $x$ and $y$ are between -100 and 100.\n",
    "Use the voronoi function to plot the nearest neighbour (Voronoi) cell for each of the 15 random model combinations of x and y.\n",
    "\n",
    "What do the orange circles represent?"
   ]
  },
  {
   "cell_type": "code",
   "execution_count": 175,
   "metadata": {},
   "outputs": [
    {
     "data": {
      "text/plain": [
       "Text(0, 0.5, 'Y')"
      ]
     },
     "execution_count": 175,
     "metadata": {},
     "output_type": "execute_result"
    },
    {
     "data": {
      "text/plain": [
       "<Figure size 432x288 with 0 Axes>"
      ]
     },
     "metadata": {},
     "output_type": "display_data"
    },
    {
     "data": {
      "image/png": "[encoded data removed]",
      "text/plain": [
       "<Figure size 432x288 with 1 Axes>"
      ]
     },
     "metadata": {
      "needs_background": "light"
     },
     "output_type": "display_data"
    }
   ],
   "source": [
    "np.random.seed(seed=10)\n",
    "X,Y = np.random.uniform(low = -100, high = 100, size=(2,15))\n",
    "coords = np.array(list(zip(X, Y))) # combine the (x,y) cooordinates in the way that the Voronoi function expects.\n",
    "plt.figure()\n",
    "vor = Voronoi(coords)\n",
    "fig = voronoi_plot_2d(vor)\n",
    "plt.xlabel('X')\n",
    "plt.ylabel('Y')"
   ]
  },
  {
   "cell_type": "markdown",
   "metadata": {},
   "source": [
    "Q2) Complete the likelihood function"
   ]
  },
  {
   "cell_type": "code",
   "execution_count": 188,
   "metadata": {},
   "outputs": [],
   "source": [
    "def likelihood(X,Y):\n",
    "    '''Calculate the likelihood for specific values X and Y'''\n",
    "    r = np.zeros(10)\n",
    "    d = np.array([0.822,   0.809,   0.791 ,  0.800 ,  0.796 ,  0.781 , 0.765,  0.792 ,  0.792 ,  0.776])\n",
    "    t = np.arange(1,11)\n",
    "    for i in range(10):\n",
    "        r[i]=d[i]-(1+(np.sin(X/4)+np.sin(Y/5)) / \n",
    "    return np.exp(-np.sum(r**2))\n"
   ]
  },
  {
   "cell_type": "markdown",
   "metadata": {},
   "source": [
    "Q3) Calculate the likelihood for each of the 15 random models and store them in the vector sigma_m.\n",
    "Copy and paste your plotting code from above, and use plt.scatter to add the 15 models to your Voronoi plot, with likelihood indicated by colour.\n",
    "\n",
    "Which is the most likely model?"
   ]
  },
  {
   "cell_type": "code",
   "execution_count": null,
   "metadata": {},
   "outputs": [],
   "source": [
    "p=15\n",
    "\n",
    "sigma_m = np.zeros(p)\n",
    "for j in range(p):\n",
    "    sigma_m[j]=\n",
    "plt.figure()\n",
    "fig = voronoi_plot_2d(vor)\n",
    "plt.scatter(X,Y,s=75, c=sigma_m, zorder=3)\n",
    "plt.colorbar()"
   ]
  },
  {
   "cell_type": "markdown",
   "metadata": {},
   "source": [
    "Q4) Run the code cell below to define a key function. You do not need to understand how the function works."
   ]
  },
  {
   "cell_type": "code",
   "execution_count": 190,
   "metadata": {},
   "outputs": [],
   "source": [
    "def voronoi_intersect(m_rw,m_vor,m_all,dim,dim_lims):\n",
    "    '''VORONOI_INTERSECT returns intersect values between the axis running through the\n",
    "     current model along a specified dimension, and the Voronoi diagram\n",
    "     \n",
    "   M_RW   = random walk model (Mx1 vector)\n",
    "   M_VOR  = model on which Voronoi cell is based (Mx1 vector)\n",
    "   M_ALL  = all models that have been sampled (MxN vector)\n",
    "   DIM    = specified dimension (a number between 1 and M)\n",
    "   DIM_LIMS = lower and upper bounds for the specified dimension (1x2 vector) '''\n",
    "    \n",
    "    # Based on Matlab code written by Andy Hooper.\n",
    "    \n",
    "    n_all=m_all.shape[1]\n",
    "    dk=m_vor-m_rw\n",
    "    dk[dim] = 0\n",
    "    dk2=np.sum(dk**2) # distance to axis of m_vor, squared\n",
    "    dj=np.matlib.repmat(m_rw,1,n_all)-m_all\n",
    "    dj[dim,:]=0\n",
    "    dj2=np.sum(dj**2,axis=0)  # distance to axis of m_all, squared\n",
    "    \n",
    "    m_vor=np.matlib.repmat(m_vor[dim],1,n_all)\n",
    "    m_all=m_all[dim,:]\n",
    "    \n",
    "    np.seterr(all = 'ignore')\n",
    "    intersects=(m_vor+m_all+(dk2-dj2)/(m_vor-m_all))/2\n",
    "    intersects = intersects[~np.isnan(intersects)]\n",
    "    \n",
    "    low= max(np.append(intersects[intersects<m_rw[dim]],dim_lims[0]))\n",
    "    high=min(np.append(intersects[intersects>m_rw[dim]],dim_lims[1]))\n",
    "    return low,high"
   ]
  },
  {
   "cell_type": "markdown",
   "metadata": {},
   "source": [
    "## Neighbourhood algorithm\n",
    "\n",
    "Here is the algorithm to generate $p$ new models in a cell defined by the vertex m_vor corresponding to the highest likelihood\n",
    "\n",
    "- Order the likelihoods in decreasing order. Find the (X,Y) values corresponding to the largest likelihood\n",
    "- initialise m_all to be the known (X,Y) positions\n",
    "- initialise m_save, sigma_m_save to be empty vectors, at each iteration you will append to these vectors.\n",
    "- define m_vor to be the vertex of highest likelihood\n",
    "- do the following $p$ times:\n",
    "\n",
    "    - define m_curr (the initial position of the new model, before the random walk) to be m_vor\n",
    "    - use the function voronoi_intersect to find where a line drawn parallel with the x-axis intersects the Voronoi cell boundaries  (set m_curr and m_vor to the model with the highest likelihood, and use -100 and 100 as the limits)\n",
    "    - update the $x$ value for m_curr using a random number between these 2 boundaries\n",
    "    - use voronoi_intersect to find where a line drawn parallel with the y-axis through m_curr, intersects the Voronoi cell boundaries (use -100 and 100 as the limits);\n",
    "    - update the $y$ value for m_curr using a random number between these 2 boundaries\n",
    "    - calculate the likelihood\n",
    "    - add the new model to m_save, and the sigma value to sigma_m_save\n",
    "\n",
    "\n",
    "- At the end of the loop, m_save contains all the saved new models, with corresponding values in sigma_m_save"
   ]
  },
  {
   "cell_type": "code",
   "execution_count": 192,
   "metadata": {},
   "outputs": [
    {
     "data": {
      "text/plain": [
       "<Figure size 432x288 with 0 Axes>"
      ]
     },
     "metadata": {},
     "output_type": "display_data"
    },
    {
     "data": {
      "image/png": "[encoded data removed]",
      "text/plain": [
       "<Figure size 432x288 with 2 Axes>"
      ]
     },
     "metadata": {
      "needs_background": "light"
     },
     "output_type": "display_data"
    }
   ],
   "source": [
    "I = np.flip(np.argsort(sigma_m))\n",
    "\n",
    "m_all = np.zeros((2,15))\n",
    "m_save = np.empty((2,0), float)\n",
    "sigma_m_save = np.empty((1,0), float)\n",
    "m_all[0,:] = X\n",
    "m_all[1,:] = Y\n",
    "\n",
    "m_vor = np.zeros((2,1))\n",
    "\n",
    "\n",
    "j=0\n",
    "m_vor[0], m_vor[1] = X[I[0]], Y[I[0]]\n",
    "m_curr = m_vor.copy()\n",
    "low,high=voronoi_intersect(m_curr,m_vor,m_all,0,[-100, 100])\n",
    "m_curr[0]=np.random.uniform(low = low, high = high, size=1)\n",
    "low,high=voronoi_intersect(m_curr,m_vor,m_all,1,[-100, 100])\n",
    "m_curr[1]=np.random.uniform(low = low, high = high, size=1)\n",
    "m_save = np.append( m_save, m_curr, axis=1)\n",
    "sigma_m_save = np.append(sigma_m_save, likelihood(m_curr[0], m_curr[1]))\n",
    "\n",
    "# Make a plot\n",
    "plt.figure()\n",
    "fig = voronoi_plot_2d(vor)\n",
    "plt.scatter(X,Y,s=100, c=sigma_m,alpha=1,zorder=3)  # These are the initial models\n",
    "plt.colorbar()\n",
    "plt.scatter(m_save[0,:],m_save[1,:],c='black');  # These are the new models"
   ]
  },
  {
   "cell_type": "markdown",
   "metadata": {},
   "source": [
    "Q5) Where is the model in the figure above? Check you understand the algorithm. Copy and paste this code and amend it to find 14 more models. "
   ]
  },
  {
   "cell_type": "markdown",
   "metadata": {},
   "source": [
    "Q6) Repeat the previous step for 9 other neighbourhoods in order of decreasing likelihood (making 10 neighbourhoods in total). You are using the parameters $p=15$, $q=10$, and so you should now have 150 new models altogether. This completes one iteration of the algorithm."
   ]
  },
  {
   "cell_type": "markdown",
   "metadata": {},
   "source": [
    "Q7) At the end of the first iteration, you need to add the 150 new models to m_all and the corresponding likelihood values to sigma_m. \n",
    "Then you need to generate a new index to the likelihood values in descending order. The code to do this is below. "
   ]
  },
  {
   "cell_type": "code",
   "execution_count": 199,
   "metadata": {},
   "outputs": [],
   "source": [
    "m_all = np.append(m_all, m_save,axis=1)\n",
    "sigma_m = np.append(sigma_m, sigma_m_save,axis=0)\n",
    "I = np.flip(np.argsort(sigma_m))"
   ]
  },
  {
   "cell_type": "markdown",
   "metadata": {},
   "source": [
    "Q8) Make a scatter plot of m_all (all the models), coloured by their likelihood. Where is the model with the highest likelihood?"
   ]
  },
  {
   "cell_type": "markdown",
   "metadata": {},
   "source": [
    "Q9) Now repeat the entire algorithm 5 times in total. At the end, select the model with the highest likelihood."
   ]
  },
  {
   "cell_type": "markdown",
   "metadata": {},
   "source": [
    "Q10) For this practical you have used values of p=15 and q=10. Try re-running with different values of p and q to see how the sampling varies. "
   ]
  },
  {
   "cell_type": "code",
   "execution_count": null,
   "metadata": {},
   "outputs": [],
   "source": []
  }
 ],
 "metadata": {
  "kernelspec": {
   "display_name": "Python 3",
   "language": "python",
   "name": "python3"
  },
  "language_info": {
   "codemirror_mode": {
    "name": "ipython",
    "version": 3
   },
   "file_extension": ".py",
   "mimetype": "text/x-python",
   "name": "python",
   "nbconvert_exporter": "python",
   "pygments_lexer": "ipython3",
   "version": "3.8.5"
  }
 },
 "nbformat": 4,
 "nbformat_minor": 4
}
