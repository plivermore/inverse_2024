{
 "cells": [
  {
   "cell_type": "code",
   "execution_count": 4,
   "metadata": {},
   "outputs": [],
   "source": [
    "import matplotlib.pyplot as plt\n",
    "import numpy as np"
   ]
  },
  {
   "cell_type": "markdown",
   "metadata": {},
   "source": [
    "## SOEE3250/SOEE5675M/SOEE5116\t\t\t\t\t\n",
    "\n",
    "Inverse Theory\n",
    "\n",
    "# Practical 4: Non-linear least squares\n",
    "\n",
    "## Geophysical background\n",
    "The goal is to locate the epicentre (i.e. the x and y co-ordinates, but NOT the depth) of where an earthquake occurred, using the arrival times of two types of seismic wave recorded at 3 seismometers. The locations and arrival times at each seismometer are:\n",
    "\n",
    "| X-coord (km) |  Y-coord (km) | P-wave arrival | S-wave arrival | \n",
    "| :------ |:---------:| :---------: |---------:|\n",
    "|  27.3570  |      -58.2520 | 28.9   |  40.1\n",
    "|  5.8120  |   77.4070  | 23.8      |    31.3 |\n",
    "| -33.0670   |   -18.9540  | 29.5   |       41.2\n",
    "\n",
    "Each arrival time is measured in seconds after the time 14h:32.\n",
    "Assume that the seismic velocities for both P- and S- waves are constant, but unknown.\n",
    "The time (in seconds, after 14h:32) of the earthquake is also unknown.\n",
    "\n",
    "## Mathematical background\n",
    "You have 6 arrival times (6 data) and five unknowns (x,y of the wave source, the time that the waves are triggered, and the speed of the two types of measured wave. Your task is to find the unweighted least squares fit.\n",
    "\n",
    "You will need to use the relationship: speed = distance/time, or total time = slowness * distance + offset time\n"
   ]
  },
  {
   "cell_type": "markdown",
   "metadata": {},
   "source": [
    "Q1) What are the measurements? Create a vector (d), ordered with the P-wave arrivals first, then the S-wave arrivals."
   ]
  },
  {
   "cell_type": "code",
   "execution_count": 5,
   "metadata": {},
   "outputs": [],
   "source": [
    "#"
   ]
  },
  {
   "cell_type": "markdown",
   "metadata": {},
   "source": [
    "Q2) Create a vector (xseis) containing the x-coordinates of the seismometers and a corresponding vector (yseis). Create a new figure and plot the locations of the seismometers as blue circles."
   ]
  },
  {
   "cell_type": "code",
   "execution_count": null,
   "metadata": {},
   "outputs": [],
   "source": [
    "#"
   ]
  },
  {
   "cell_type": "markdown",
   "metadata": {},
   "source": [
    "Q3) The five unknown model parameters are (in order):\n",
    "\n",
    "x,y, slowness_s, slowness_p, time.\n",
    "\n",
    "Each has units km,km,s/km, s/km, seconds after 14:32\n",
    " \n",
    "Using the slownesses (the reciprocal of speeds) instead of speeds will simplify the maths later on.\n",
    "\n",
    "The equation that relates $d[0]$, the first data component, to the model parameters (indices 0 - 4) is:\n",
    "$d[0] = m[4] + m[3] * \\sqrt{(xseis[0]-m[0])^2+(yseis[0]-m[1])^2)}$\n",
    "\n",
    "Write down similar equations for $d[1]$ and $d[2]$. "
   ]
  },
  {
   "cell_type": "markdown",
   "metadata": {},
   "source": [
    "$d[1] = $\n",
    "\n",
    "$d[2] = $\n"
   ]
  },
  {
   "cell_type": "markdown",
   "metadata": {},
   "source": [
    "Q4) Write down the equations that relate the model parameters to the measured S-wave arrival times measurements (in the same format $d[i] = \\dots$, where i = 3,4,5). The right hand side of these 3 equations, together with the 3 from the previous question make up $g({\\bf m})$."
   ]
  },
  {
   "cell_type": "markdown",
   "metadata": {},
   "source": []
  },
  {
   "cell_type": "markdown",
   "metadata": {},
   "source": [
    "Q5) Setup a vector m_0 with an initial guess of the model vector with values: [10, 20 ,0.3, 0.1, 0]. Copy the plotting commands from before and add the location of your initial guess to your plot."
   ]
  },
  {
   "cell_type": "code",
   "execution_count": null,
   "metadata": {},
   "outputs": [],
   "source": []
  },
  {
   "cell_type": "markdown",
   "metadata": {},
   "source": [
    "Q6) Create a function that determines $g({\\bf m)}$.\n",
    "Use it to calculate $g({\\bf m}_0)$, (call this vector d_hat), using the vector of initial guesses. \n",
    "\n",
    "The first component is done for you - add to the code to calculate the other components.\n",
    "\n",
    "You should find that d_hat is approximately [ 8.02   5.76  5.81 24.05  17.27 17.42]"
   ]
  },
  {
   "cell_type": "code",
   "execution_count": null,
   "metadata": {},
   "outputs": [],
   "source": [
    "def g_calculate(m):\n",
    "    \"\"\"Function that calculates g for given model m\"\"\"\n",
    "    g = np.zeros(6)\n",
    "    g[0] = m[4] + m[3] * np.sqrt( (xseis[0]-m[0])**2+(yseis[0]-m[1])**2)\n",
    "    g[1] = \n",
    "    g[2] = \n",
    "    g[3] = \n",
    "    g[4] = \n",
    "    g[5] = \n",
    "    return g\n",
    "d_hat = g_calculate(m_0)\n",
    "print( d_hat )"
   ]
  },
  {
   "cell_type": "markdown",
   "metadata": {},
   "source": [
    "Q7) Calculate delta_d =  d – d_hat"
   ]
  },
  {
   "cell_type": "code",
   "execution_count": null,
   "metadata": {},
   "outputs": [],
   "source": []
  },
  {
   "cell_type": "markdown",
   "metadata": {},
   "source": [
    "Q8) Make a function that calculates $\\partial_{m^T} g( {\\bf m})$. You need to differentiate each row of $g({\\bf m})$ with respect to each model parameter in turn, giving a 6 x 5 matrix.  The first column is done for you - add to the function to calculate the remaining components. Some of the components are very simple: they are either zeros or ones."
   ]
  },
  {
   "cell_type": "code",
   "execution_count": 103,
   "metadata": {},
   "outputs": [],
   "source": [
    "def g_derivatives(m):\n",
    "    \"\"\"Calculate the matrix of derivatives of g\"\"\"\n",
    "    A = np.zeros((6,5))\n",
    "    xseis = np.array([27.3570, 5.8120, -33.0670])\n",
    "    yseis = np.array([-58.2520, 77.4070, -18.9540])\n",
    "    # column 0 is the derivative of g with respect to model variable with index 0.\n",
    "    A[0,0] = m[3] * (m[0] - xseis[0]) / np.sqrt( (xseis[0]-m[0])**2+(yseis[0]-m[1])**2)\n",
    "    A[1,0] = m[3] * (m[0] - xseis[1]) / np.sqrt( (xseis[1]-m[0])**2+(yseis[1]-m[1])**2)\n",
    "    A[2,0] = m[3] * (m[0] - xseis[2]) / np.sqrt( (xseis[2]-m[0])**2+(yseis[2]-m[1])**2)\n",
    "    A[3,0] = m[2] * (m[0] - xseis[0]) / np.sqrt( (xseis[0]-m[0])**2+(yseis[0]-m[1])**2)\n",
    "    A[4,0] = m[2] * (m[0] - xseis[1]) / np.sqrt( (xseis[1]-m[0])**2+(yseis[1]-m[1])**2)\n",
    "    A[5,0] = m[2] * (m[0] - xseis[2]) / np.sqrt( (xseis[2]-m[0])**2+(yseis[2]-m[1])**2)\n",
    "\n",
    "    # complete the matrix\n",
    "    return A\n"
   ]
  },
  {
   "cell_type": "code",
   "execution_count": null,
   "metadata": {},
   "outputs": [],
   "source": [
    "print( g_derivatives(m_0))\n"
   ]
  },
  {
   "cell_type": "markdown",
   "metadata": {
    "jupyter": {
     "source_hidden": true
    },
    "tags": []
   },
   "source": [
    "Q9) Use least squares to estimate delta_m from A and delta_d.\n",
    "\n",
    "You should find that delta_m is approximately [ 28.49836833  9.50982501 -0.03501756  0.03342561 17.91858939]"
   ]
  },
  {
   "cell_type": "code",
   "execution_count": 125,
   "metadata": {},
   "outputs": [],
   "source": []
  },
  {
   "cell_type": "code",
   "execution_count": null,
   "metadata": {},
   "outputs": [],
   "source": [
    "print( delta_m )"
   ]
  },
  {
   "cell_type": "markdown",
   "metadata": {},
   "source": [
    "Q10) Add delta_m to m_0 to make m_1. This is your revised estimate of the model parameters. Copy and paste your plotting code from above, and add the revised location to your plot as a red circle."
   ]
  },
  {
   "cell_type": "code",
   "execution_count": null,
   "metadata": {},
   "outputs": [],
   "source": [
    "\n"
   ]
  },
  {
   "cell_type": "markdown",
   "metadata": {},
   "source": [
    "Q11) Now iterate this procedure 10 times, beginning from m_0, displaying the 0th and 1st component of the model vector each time (i.e. the x,y position). You should see that the values converge, that is, the updates become increasingly small. When the updates lie below a threshold (such as 1e-12), the calculation can be deemed converged. Is 10 iterations enough for convergence? \n",
    "\n",
    "Below is some outline code which you need to complete.\n",
    "Make a plot showing the seismometer locations and each of the (x,y) model positions you find in the 10 iterations."
   ]
  },
  {
   "cell_type": "code",
   "execution_count": null,
   "metadata": {},
   "outputs": [],
   "source": [
    "current_model = np.array([10,20,0.3,0.1,0]  )\n",
    "for i in range(10):\n",
    "    delta_d = #\n",
    "    A = #\n",
    "    delta_m = #\n",
    "    current_model = # update the current model\n",
    "    "
   ]
  },
  {
   "cell_type": "code",
   "execution_count": null,
   "metadata": {},
   "outputs": [],
   "source": []
  },
  {
   "cell_type": "code",
   "execution_count": null,
   "metadata": {},
   "outputs": [],
   "source": []
  }
 ],
 "metadata": {
  "kernelspec": {
   "display_name": "Python 3 (ipykernel)",
   "language": "python",
   "name": "python3"
  },
  "language_info": {
   "codemirror_mode": {
    "name": "ipython",
    "version": 3
   },
   "file_extension": ".py",
   "mimetype": "text/x-python",
   "name": "python",
   "nbconvert_exporter": "python",
   "pygments_lexer": "ipython3",
   "version": "3.10.5"
  }
 },
 "nbformat": 4,
 "nbformat_minor": 4
}
